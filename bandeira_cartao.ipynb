{
  "nbformat": 4,
  "nbformat_minor": 0,
  "metadata": {
    "colab": {
      "provenance": [],
      "authorship_tag": "ABX9TyNAFS+qerw1OGbuOui3rJ+X",
      "include_colab_link": true
    },
    "kernelspec": {
      "name": "python3",
      "display_name": "Python 3"
    },
    "language_info": {
      "name": "python"
    }
  },
  "cells": [
    {
      "cell_type": "markdown",
      "metadata": {
        "id": "view-in-github",
        "colab_type": "text"
      },
      "source": [
        "<a href=\"https://colab.research.google.com/github/marceloppaz/bandeira_cartao/blob/main/bandeira_cartao.ipynb\" target=\"_parent\"><img src=\"https://colab.research.google.com/assets/colab-badge.svg\" alt=\"Open In Colab\"/></a>"
      ]
    },
    {
      "cell_type": "code",
      "execution_count": null,
      "metadata": {
        "id": "V2nvgQpAoj5v"
      },
      "outputs": [],
      "source": [
        "def identificar_bandeira(numero_cartao):\n",
        "    # Prefixos das bandeiras\n",
        "    bandeiras = {\n",
        "        \"Visa\": [\"4\"],\n",
        "        \"Mastercard\": [\"51\", \"52\", \"53\", \"54\", \"55\"],\n",
        "        \"Diners Club\": [\"36\", \"38\"],\n",
        "        \"Discover\": [\"6011\", \"65\"],\n",
        "        \"JCB\": [\"35\"],\n",
        "        \"American Express\": [\"34\", \"37\"]\n",
        "    }\n",
        "\n",
        "    # Verificar qual bandeira corresponde ao número do cartão\n",
        "    for bandeira, prefixos in bandeiras.items():\n",
        "        for prefixo in prefixos:\n",
        "            if numero_cartao.startswith(prefixo):\n",
        "                return bandeira\n",
        "    return \"Bandeira desconhecida\"\n",
        "\n",
        "# Exemplo de uso\n",
        "numero_cartao = input(\"Digite o número do cartão: \")\n",
        "bandeira = identificar_bandeira(numero_cartao)\n",
        "print(f\"A bandeira do cartão é: {bandeira}\")"
      ]
    }
  ]
}